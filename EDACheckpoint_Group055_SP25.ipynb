{
 "cells": [
  {
   "cell_type": "markdown",
   "metadata": {},
   "source": [
    "**If you lost points on the last checkpoint you can get them back by responding to TA/IA feedback**  \n",
    "\n",
    "Update/change the relevant sections where you lost those points, make sure you respond on GitHub Issues to your TA/IA to call their attention to the changes you made here.\n",
    "\n",
    "Please update your Timeline... no battle plan survives contact with the enemy, so make sure we understand how your plans have changed."
   ]
  },
  {
   "cell_type": "markdown",
   "metadata": {},
   "source": [
    "# COGS 108 - EDA Checkpoint"
   ]
  },
  {
   "cell_type": "markdown",
   "metadata": {},
   "source": [
    "# Names\n",
    "\n",
    "- Alexandro Merida Silva\n",
    "- Adam Rolander\n",
    "- Alyssa Le\n",
    "- Enrique Aranda\n",
    "- Hikari Gregersen"
   ]
  },
  {
   "cell_type": "markdown",
   "metadata": {},
   "source": [
    "# Research Question"
   ]
  },
  {
   "cell_type": "markdown",
   "metadata": {},
   "source": [
    "Is there a relationship between the quality of parent-child relations (ie, time spent breastfeeding, self-reported level of care from parents, involvement in hobbies) and adult mental health diagnoses or self-reported well-being, as collected by surveys?"
   ]
  },
  {
   "cell_type": "markdown",
   "metadata": {},
   "source": [
    "## Background and Prior Work"
   ]
  },
  {
   "cell_type": "markdown",
   "metadata": {},
   "source": [
    "Providing support is one of the most important responsibilities that a parent takes up when introducing a child into their lives. This parental involvement is what helps a child thrive in their early years and is the standard for a healthy household. The American Psychological Association surveyed this relationship and found that poor mental health is strongly linked to a lack of parental support. Their findings support the notion that parent support is vital as it sets the foundation for healthy self-esteem and perspective on love, and without it, the long-term effects could lead to depressive and melancholy symptoms<a name=\"cite_ref-1\"></a>[<sup>1</sup>](#cite_note-1). We can explore this more in-depth in our project, as we will have an eye on the correlation between care from parents and their reported mental health. \n",
    "\n",
    "In an era of increasingly common teen suicides, parental support could be a key factor in lowering these numbers<a name=\"cite_ref-2\"></a>[<sup>2</sup>](#cite_note-2). In an article from the University of Maryland College of Education, the article covers the importance of a parent’s role in supporting their adolescent children as they face an overwhelming increase in bullying. Their data showed that parental involvement through the middle school years proved to benefit their academic achievement and socioemotional health, which is typically when parents start distancing themselves from their child’s academics<a name=\"cite_ref-2\"></a>[<sup>2</sup>](#cite_note-2). This correlation shown by their research can help us look into their general well-being and time spent with their parents, and see if we see the same correlation. \n",
    "\n",
    "Prior works have shown that parental involvement does not go unnoticed, and it leads to a positive impact on their child’s well-being. A small step can go a long way for a child, and their notion of great parenting will influence their parenting styles in the future, benefiting the next generation of children. Our objective as a group is to go deeper into this hereditary cascade and discover the long-term effects of parent involvement on their children’s mental health.\n",
    "\n",
    "**References:**\n",
    "1. <a name=\"cite_note-1\"></a> [^](#cite_ref-1) American Psychological Association. (2004, March). Parental Support and Mental Health. https://www.apa.org/news/press/releases/2004/03/parental-support \n",
    "2. <a name=\"cite_note-2\"></a> [^](#cite_ref-2)University of Maryland College of Education. (2019, March 29). Parental Involvement as a Protective Factor for Adolescent Mental Health. https://education.umd.edu/news/03-29-19-parental-involvement-%E2%80%9Cprotective-factor%E2%80%9D-mental-health \n"
   ]
  },
  {
   "cell_type": "markdown",
   "metadata": {},
   "source": [
    "# Hypothesis\n"
   ]
  },
  {
   "cell_type": "markdown",
   "metadata": {},
   "source": [
    "We predict that individuals who experienced greater parental support during childhood will report better adult mental health outcomes. This includes lower rates of diagnosed depression, fewer depressive symptoms, and less psychological counseling usage. Our hypothesis is grounded in both prior research and the structure of our dataset, and is explored across the following dimensions:\n",
    "\n",
    "\n",
    "- **Children with high perceived parental warmth and care**\n",
    "\n",
    "    Research shows that individuals with lower emotional support from parents during childhood reported significantly more depressive symptoms and chronic conditions in adulthood<a name=\"cite_ref-1\"></a>[<sup>1</sup>](#cite_note-1). We hypothesize that individuals who reported higher levels of parental warmth and involvement measured through variables such as parents_care (H1PR3), mom_warmth (H1PF1), and mother_close (H4WP24) will show lower levels of depressive symptoms and less need for psychological counseling in adulthood.\n",
    "\n",
    "\n",
    "- **Individuals nurtured through early caregiving behaviors**\n",
    "\n",
    "    It is also researched that early support contributes to long-term psychosocial resources like self-esteem and emotional regulation<a name=\"cite_ref-1\"></a>[<sup>1</sup>](#cite_note-1). We expect that those who were breastfed longer (breastfed_duration (PC20)) or engaged in structured, supportive childhood activities (hobby_time (H1DA2)) will experience better adult mental health outcomes.\n",
    "\n",
    "- **Those exposed to early adversity**\n",
    "\n",
    "    Wang et al. (2019)<a name=\"cite_ref-2\"></a>[<sup>2</sup>](#cite_note-2) found that perceived parental involvement buffered the negative effects of victimization on middle school students’ mental health. Students who felt supported by parents reported fewer mental health difficulties and suicidal thoughts, even when exposed to bullying. Based on this, we hypothesize that individuals who experienced early-life adversity such as being jumped (jumped (H1FV6)) or witnessing violence (witness_violence (H1FV1)) will report poorer mental health outcomes unless mitigated by strong early parental support.\n",
    "\n",
    "- **Adults with diagnosed mental health issues or emotional counseling history**\n",
    "\n",
    "    We expect a negative association between early parental support and adult mental health issues, including diagnosed depression (depression (H4ID5H)), emotional distress (depress_feel (H1FS6)), and use of counseling services (counseling (H1HS3)). This prediction is grounded in life course research suggesting that early emotional environments shape long-term psychological health."
   ]
  },
  {
   "cell_type": "markdown",
   "metadata": {},
   "source": [
    "# Data"
   ]
  },
  {
   "cell_type": "markdown",
   "metadata": {},
   "source": [
    "## Data overview\n",
    "\n",
    "  - Dataset Name: National Longitudinal Study of Adolescent to Adult Health (Add Health), 1994-2008 [Public Use]\n",
    "  - Link to the dataset: https://www.icpsr.umich.edu/web/ICPSR/studies/21600/variables\n",
    "  - Number of observations: 5114 originally, 1715 after cleaning\n",
    "  - Number of variables: 3713 originally, 30 after cleaning\n",
    "\n",
    "This dataset was collected by the Carolina Population Center with in-school questionnaires and in-home interviews, collecting various information, from health to personal relationships and school reports. This particular dataset includes data from 1994-2008 over a series of five waves that were conducted throughout the respondents’ transition into adulthood. We decided to use data from waves 1 and 4 that consisted of the most comprehensive survey questions and were reported in 1994-96 (middle-high school age) and 2008 (mid 20s-30s), respectively. Our project will look at the variables relevant to childhood from the survey, such as the amount of time spent being breastfed, closeness to mother and father, and general attitude towards family life, as well as variables relevant to well-being as an adult, including considering and attempting suicide, feelings of depression, and seeking counseling. These variables are numeric, as the observations were often reported on a scale of 1-10 or were the specific number of times the participant experienced a condition. We downloaded the dataset locally, and it is already in tidy format, but we renamed columns to more accurately reflect the variables they display. Also, since not every respondent responded to all of our desired variables, we decided to drop any ‘legitimate skips’ or times where the respondents refused to or didn’t know the answer to a question we asked, as part of the cleaning process. "
   ]
  },
  {
   "cell_type": "markdown",
   "metadata": {},
   "source": [
    "## Dataset (Add Health)"
   ]
  },
  {
   "cell_type": "code",
   "execution_count": null,
   "metadata": {},
   "outputs": [],
   "source": [
    "# Setup - importing numpy, pandas, seaborn, matplotlib, and statsmodels\n",
    "import numpy as np\n",
    "import pandas as pd\n",
    "import seaborn as sns\n",
    "\n",
    "import matplotlib as mpl\n",
    "import matplotlib.pyplot as plt\n",
    "\n",
    "import statsmodels\n",
    "import statsmodels.formula.api as smf"
   ]
  },
  {
   "cell_type": "code",
   "execution_count": null,
   "metadata": {},
   "outputs": [],
   "source": [
    "# Read in DS0001 & DS0022 csv's\n",
    "\n",
    "df_set1 = pd.read_csv(\"ICPSR_21600/DS0001/21600-0001-Data.tsv\", sep=\"\\t\")\n",
    "\n",
    "df_set22 = pd.read_csv(\"ICPSR_21600/DS0022/21600-0022-Data.tsv\", sep=\"\\t\")"
   ]
  },
  {
   "cell_type": "code",
   "execution_count": null,
   "metadata": {},
   "outputs": [],
   "source": [
    "# Merge on AID (participant identifier), inner so non-respondents aren't included\n",
    "merged_df = pd.merge(df_set1, df_set22, on=\"AID\", how=\"inner\", suffixes=(\"_wave1\", \"_wave4\"))\n",
    "\n",
    "print(\"Merged shape:\", merged_df.shape)\n",
    "merged_df.head()"
   ]
  },
  {
   "cell_type": "code",
   "execution_count": null,
   "metadata": {},
   "outputs": [],
   "source": [
    "# Get a subset of the variables we want to study (30 out of 3713 variables)\n",
    "sub_df = merged_df[['H1PR3', 'H1DS7', 'PC20', 'H1DA2', 'H1DA7', 'H1PR1', 'H1PR5', 'H1FV1', 'H1FV6', 'H4EC7', \n",
    "                    'H4ID5H', 'H1HS3', 'H1FS6', 'H1PF5', 'H1SU1', 'H4SE1', 'H4SE2', 'H4ED9', 'H4LM28', \n",
    "                    'H4ED8', 'H4MA1', 'H4GH7', 'H1ED11', 'H1ED12', 'H1ED13', 'H1ED14', 'H4CJ1', 'H4WP38', \n",
    "                    'H1PF1', 'H4WP24']]\n",
    "sub_df.head()"
   ]
  },
  {
   "cell_type": "code",
   "execution_count": null,
   "metadata": {},
   "outputs": [],
   "source": [
    "# New variables to make the data more understandable\n",
    "new_col_names = {'H1PR3':'parents_care', 'H1DS7':'run_home', 'PC20':'breastfed_duration', 'H1DA2':'hobby_time',\n",
    "                 'H1DA7':'friend_time', 'H1PR1':'mother_care', 'H1PR5':'fam_understanding',\n",
    "                 'H1FV1':'witness_violence', 'H1FV6':'jumped', 'H4EC7':'assets_value', 'H4ID5H':'depression',\n",
    "                 'H1HS3':'counseling', 'H1ED11':'English', 'H1ED12':'Math', 'H1ED13':'History', 'H1ED14':'Science',\n",
    "                 'H1FS6':'depress_feel', 'H1PF5':'mother_satisfied', 'H1SU1':'consider_suicide_youth', \n",
    "                 'H4SE1':'consider_suicide_adult', 'H4SE2':'attempt_suicide_adult', 'H4ED9':'edu_exp',\n",
    "                 'H4LM28':'respon_interfer', 'H4CJ1':'arrest_i', 'H4ED8':'desired_edu', 'H4MA1':'feels_18th',\n",
    "                 'H4GH7':'feel_weight', 'H4WP38':'father_close', 'H4WP24':'mother_close', 'H1PF1':'mom_warmth',}\n",
    "sub_df = sub_df.rename(new_col_names, axis='columns')\n",
    "sub_df.head()"
   ]
  },
  {
   "cell_type": "code",
   "execution_count": null,
   "metadata": {},
   "outputs": [],
   "source": [
    "print('Data types in sub_df:')\n",
    "sub_df.dtypes"
   ]
  },
  {
   "cell_type": "code",
   "execution_count": null,
   "metadata": {},
   "outputs": [],
   "source": [
    "# remove spaces before converting the object data type columns to integers to avoid errors\n",
    "sub_df = sub_df[~sub_df.consider_suicide_adult.isin([' '])]\n",
    "sub_df = sub_df[~sub_df.breastfed_duration.isin([' '])]\n",
    "\n",
    "sub_df['consider_suicide_adult'] = sub_df['consider_suicide_adult'].astype(int)\n",
    "sub_df['breastfed_duration'] = sub_df['breastfed_duration'].astype(int)\n",
    "sub_df['attempt_suicide_adult'] = sub_df['attempt_suicide_adult'].astype(int)\n",
    "sub_df['respon_interfer'] = sub_df['respon_interfer'].astype(int)"
   ]
  },
  {
   "cell_type": "code",
   "execution_count": null,
   "metadata": {},
   "outputs": [],
   "source": [
    "# Let's now remove all of the decline to answer/ unknown answers (number codes vary per variable)\n",
    "sub_df = sub_df[~sub_df.parents_care.isin([6, 96, 98])]\n",
    "sub_df = sub_df[~sub_df.run_home.isin([6, 8, 9])]\n",
    "sub_df = sub_df[~sub_df.breastfed_duration.isin([96, 98])]\n",
    "sub_df = sub_df[~sub_df.mom_warmth.isin([6, 7, 8])]\n",
    "sub_df = sub_df[~sub_df.hobby_time.isin([6, 8])]\n",
    "sub_df = sub_df[~sub_df.friend_time.isin([6, 8])]\n",
    "sub_df = sub_df[~sub_df.fam_understanding.isin([6, 96, 98])]\n",
    "sub_df = sub_df[~sub_df.witness_violence.isin([9])]\n",
    "sub_df = sub_df[~sub_df.jumped.isin([9])]\n",
    "sub_df = sub_df[~sub_df.assets_value.isin([96, 98])]\n",
    "sub_df = sub_df[~sub_df.mother_close.isin([7])]\n",
    "sub_df = sub_df[~sub_df.father_close.isin([7, 8])]\n",
    "sub_df = sub_df[~sub_df.depression.isin([6])]\n",
    "sub_df = sub_df[~sub_df.English.isin([5, 6, 96, 97, 98])]\n",
    "sub_df = sub_df[~sub_df.Math.isin([5, 6, 96, 97, 98])]\n",
    "sub_df = sub_df[~sub_df.History.isin([5, 6, 96, 97, 98])]\n",
    "sub_df = sub_df[~sub_df.Science.isin([5, 6, 96, 97, 98])]\n",
    "sub_df = sub_df[~sub_df.counseling.isin([6, 8])]\n",
    "sub_df = sub_df[~sub_df.mother_satisfied.isin([6, 7, 8, 9])]\n",
    "sub_df = sub_df[~sub_df.consider_suicide_youth.isin([6, 8, 9])]\n",
    "sub_df = sub_df[~sub_df.edu_exp.isin([96, 97, 98])]\n",
    "sub_df = sub_df[~sub_df.respon_interfer.isin([6, 96, 98])]\n",
    "sub_df = sub_df[~sub_df.desired_edu.isin([6, 8])]\n",
    "sub_df = sub_df[~sub_df.feels_18th.isin([96, 98])]\n",
    "sub_df = sub_df[~sub_df.feel_weight.isin([6, 8])]\n",
    "sub_df = sub_df[~sub_df.consider_suicide_adult.isin([6, 7, 8])]\n",
    "sub_df = sub_df[~sub_df.attempt_suicide_adult.isin([6, 7, 8])]\n",
    "sub_df = sub_df[~sub_df.respon_interfer.isin([96, 98])]\n",
    "\n",
    "sub_df = sub_df.reset_index(drop=True)\n",
    "sub_df.head()"
   ]
  },
  {
   "cell_type": "code",
   "execution_count": null,
   "metadata": {},
   "outputs": [],
   "source": [
    "# Check how many variables are not integers! (should be 0)\n",
    "int_columns = sub_df.select_dtypes(exclude=['int64', 'Int64']).columns\n",
    "print(\"Number of non-integer variables:\", len(int_columns.tolist()))\n",
    "print(\"Final cleaned shape:\", sub_df.shape)"
   ]
  },
  {
   "cell_type": "markdown",
   "metadata": {},
   "source": [
    "# Results\n",
    "\n",
    "## Exploratory Data Analysis\n",
    "\n",
    "Carry out whatever EDA you need to for your project.  Because every project will be different we can't really give you much of a template at this point. But please make sure you describe the what and why in text here as well as providing interpretation of results and context."
   ]
  },
  {
   "cell_type": "markdown",
   "metadata": {},
   "source": [
    "### Section 1 of EDA - please give it a better title than this\n",
    "\n",
    "Some more words and stuff.  Remember notebooks work best if you interleave the code that generates a result with properly annotate figures and text that puts these results into context."
   ]
  },
  {
   "cell_type": "code",
   "execution_count": null,
   "metadata": {},
   "outputs": [],
   "source": [
    "\n",
    "childhood_vars = sub_df[['parents_care', \n",
    "                         'run_home',\n",
    "                         'breastfed_duration',\n",
    "                         'mom_warmth',\n",
    "                         'hobby_time',\n",
    "                         'friend_time',\n",
    "                         'mother_care',\n",
    "                         'fam_understanding',\n",
    "                         'witness_violence',\n",
    "                         'jumped',\n",
    "                         'English',\n",
    "                         'Math',\n",
    "                         'History',\n",
    "                         'Science',\n",
    "                         'counseling',\n",
    "                         'depress_feel',\n",
    "                         'mother_satisfied',\n",
    "                         'consider_suicide_youth',\n",
    "                         ]]\n",
    "child_cols = childhood_vars.columns\n",
    "adult_vars = sub_df.drop(columns=child_cols)\n",
    "childhood_vars.shape, adult_vars.shape"
   ]
  },
  {
   "cell_type": "code",
   "execution_count": null,
   "metadata": {},
   "outputs": [],
   "source": [
    "# Childhood Mental Health & Adult Depression\n",
    "subset_1 = sub_df[['parents_care', 'mother_care', 'fam_understanding', \n",
    "                   'depress_feel', 'consider_suicide_youth', 'depression']]\n",
    "\n",
    "# School Performance & Education\n",
    "subset_2 = sub_df[['English', 'Math', 'History', 'Science', 'desired_edu', 'edu_exp']]\n",
    "\n",
    "# Violence\n",
    "subset_3 = sub_df[['witness_violence', 'jumped', 'arrest_i', 'respon_interfer']]\n",
    "\n",
    "# Family Warmth\n",
    "subset_4 = sub_df[['mom_warmth', 'mother_satisfied', 'mother_close', 'father_close']]\n",
    "\n",
    "# Counseling & Suicide\n",
    "subset_5 = sub_df[['counseling', 'consider_suicide_youth', \n",
    "                   'consider_suicide_adult', 'attempt_suicide_adult']]\n",
    "\n",
    "# Self-worth & health\n",
    "subset_6 = sub_df[['friend_time', 'hobby_time', 'depress_feel', 'feel_weight']]\n",
    "\n",
    "g1 = sns.pairplot(subset_1, plot_kws={'alpha': 0.1})\n",
    "g1.figure.suptitle(\"Childhood Mental Health & Adult Depression\", y=1.02)\n",
    "\n",
    "# School Performance & Education\n",
    "g2 = sns.pairplot(subset_2, plot_kws={'alpha': 0.1})\n",
    "g2.figure.suptitle(\"School Performance & Education\", y=1.02)\n",
    "\n",
    "# Violence\n",
    "g3 = sns.pairplot(subset_3, plot_kws={'alpha': 0.1})\n",
    "g3.figure.suptitle(\"Violence\", y=1.02)\n",
    "\n",
    "# Family Warmth\n",
    "g4 = sns.pairplot(subset_4, plot_kws={'alpha': 0.1})\n",
    "g4.figure.suptitle(\"Family Warmth\", y=1.02)\n",
    "\n",
    "# Counseling & Suicide\n",
    "g5 = sns.pairplot(subset_5, plot_kws={'alpha': 0.1})\n",
    "g5.figure.suptitle(\"Counseling & Suicide\", y=1.02)\n",
    "\n",
    "# Self-worth & Health\n",
    "g6 = sns.pairplot(subset_6, plot_kws={'alpha': 0.1})\n",
    "g6.figure.suptitle(\"Self-worth & Health\", y=1.02)"
   ]
  },
  {
   "cell_type": "code",
   "execution_count": null,
   "metadata": {},
   "outputs": [],
   "source": [
    "corr_matrix = sub_df.corr()\n",
    "\n",
    "plt.figure(figsize=(16, 14))\n",
    "sns.heatmap(corr_matrix, cmap='coolwarm')\n",
    "\n",
    "plt.xticks(ticks=np.arange(len(corr_matrix.columns)), labels=corr_matrix.columns, rotation=90)\n",
    "plt.yticks(ticks=np.arange(len(corr_matrix.index)), labels=corr_matrix.index, rotation=0)\n",
    "\n",
    "plt.title(\"Correlation Matrix of All Variables\", fontsize=16)\n",
    "plt.tight_layout()\n",
    "plt.show()"
   ]
  },
  {
   "cell_type": "code",
   "execution_count": null,
   "metadata": {},
   "outputs": [],
   "source": [
    "#sub_df.head(10)\n",
    "parent_care_depression = sub_df.groupby('parents_care')[['depression', 'depress_feel', 'counseling']].mean()\n",
    "parent_care_depression.plot(kind='bar', figsize=(10, 6))\n",
    "plt.title('Average Mental Health Outcomes by Parental Care Level')\n",
    "plt.ylabel('Average Mental Health Score')\n",
    "plt.xlabel('Parental Care Level')\n",
    "plt.xticks(rotation=0)\n",
    "plt.legend(title='Outcome')\n",
    "plt.tight_layout()\n",
    "plt.show()\n",
    "parent_care_depression\n"
   ]
  },
  {
   "cell_type": "markdown",
   "metadata": {},
   "source": [
    "### Section 2 of EDA if you need it  - please give it a better title than this\n",
    "\n",
    "Some more words and stuff.  Remember notebooks work best if you interleave the code that generates a result with properly annotate figures and text that puts these results into context."
   ]
  },
  {
   "cell_type": "code",
   "execution_count": null,
   "metadata": {},
   "outputs": [],
   "source": [
    "## YOUR CODE HERE\n",
    "## FEEL FREE TO ADD MULTIPLE CELLS PER SECTION"
   ]
  },
  {
   "cell_type": "markdown",
   "metadata": {},
   "source": [
    "# Ethics & Privacy"
   ]
  },
  {
   "cell_type": "markdown",
   "metadata": {},
   "source": [
    "Our research question raises several ethical and privacy issues at every stage of the data process, including data collection, analysis, and post-analysis communication.\n",
    "\n",
    "1. **Biases in Data Collection**\n",
    "\n",
    "    The data we are planning to analyze for this project may disproportionately represent demographic communities. For example, studies that rely on self-reported parental involvement or medical records might exclude populations with limited access to healthcare or different cultural parenting sub_dfs. To lessen these concerns, we will:\n",
    "   - Use diverse, representative datasets that encompass an extensive range of socioeconomic, cultural, and racial backgrounds\n",
    "   - Conduct a thorough review of the datasets to eliminate any biases\n",
    "   - Perform statistical analysis to check for sampling biases\n",
    "\n",
    "2. **Privacy Concerns**\n",
    "\n",
    "    The characteristics of the data, usually including sensitive information about parental sub_dfs and health outcomes, pose notable risks to privacy. To address this issue:\n",
    "   - Prioritize the use of anonymized data to ensure no individual can be identified\n",
    "   - Adhere to strict data privacy sub_dfs, including encryption, restricted access, and compliance with data privacy regulations\n",
    "   - Communicate privacy protection protocols to all group members\n",
    "\n",
    "3. **Biases in Analysis**\n",
    "\n",
    "    Framing parental involvement as a changeable variable could unintentionally disclose cultural or societal biases about gender roles. Also, our analysis could overemphasize some correlations while ignoring confounding variables. To mitigate this:\n",
    "   - Perform subgroup analyses to understand impacts across gender, race, and SES\n",
    "   - Control for confounders such as maternal involvement, SES, and healthcare access\n",
    "   - Apply ethical and statistical techniques to reduce model bias\n",
    "\n",
    "4. **Post-Analysis Communication**\n",
    "\n",
    "    Misinterpretation of results could reinforce stereotypes or social inequalities. To prevent this, we will:\n",
    "   - Transparently report limitations and biases\n",
    "   - Include insights from underrepresented groups to ensure balanced conclusions\n",
    "   - Distribute findings in an accessible and culturally respectful manner\n",
    "\n",
    "By identifying and addressing these issues, we aim to ensure that our analysis maintains integrity and promotes equitable data use."
   ]
  },
  {
   "cell_type": "markdown",
   "metadata": {},
   "source": [
    "# Team Expectations "
   ]
  },
  {
   "cell_type": "markdown",
   "metadata": {},
   "source": [
    "\n",
    "**Communication:**  \n",
    "The team will utilize Discord for daily communication, and each member is expected to respond by the end of the day if not earlier. The group should be informed as soon as possible if a member expects to be unavailable for more than 24 hours. The tone of the messages should be blunt but polite, and there should always be an effort to be proactive rather than reactive. In case of conflicts, team members should act respectfully and be understanding, stepping away from the conversation if needed, and resolving the issues constructively.\n",
    "\n",
    "**Meetings and Collaboration:**  \n",
    "The team will meet once a week in person to be able to encourage collaboration and creativity, and the current schedule is listed below. To make the meetings efficient, it is encouraged to complete the items in the “Completed Before Meeting” section before attending and come prepared with future plans to discuss. All decisions should be made with a majority vote, and re-voting based on any ties. If a decision needs to be made quickly and a member is unable to respond, it will be made by the remaining majority or based on the best judgment of the member handling the problem.\n",
    "\n",
    "**Task Assignments:**  \n",
    "As it is expected that everyone will contribute equally, tasks will be assigned to volunteers first, with the remaining tasks being assigned to whoever has the least amount of work. We will use our shared Google Docs and Discord to keep track of our overall progress. Although deadlines and regular check-ins will be scheduled for each component, if a member is struggling with their task, the team should be notified immediately. They can then be paired with another member, or the task will be worked on as a group to complete it in a timely manner, with resources being provided to promote a positive learning and working environment. If a team member is consistently not completing their work, we will first notify them by email, outlining our expectations, before conversing with the TA/IA after 24 hours for next steps and reallocating their work."
   ]
  },
  {
   "cell_type": "markdown",
   "metadata": {},
   "source": [
    "# Project Timeline Proposal"
   ]
  },
  {
   "cell_type": "markdown",
   "metadata": {},
   "source": [
    "| Meeting Date  | Meeting Time| Completed Before Meeting  | Discuss at Meeting |\n",
    "|---|---|---|---|\n",
    "| 5/4  |  2 PM | Do more background research on the topic & further analyze the dataset  | Discuss possible variables to consider; assign parts to group members | \n",
    "| 5/10  |  1 PM |  Import & start wrangling the data | Decide focus variables and how to revise the hypothesis & research question; discuss analytical approaches | \n",
    "| 5/15  | 1 PM  | Data wrangling & EDA considerations  | Revise wrangling & discuss analysis plans   |\n",
    "| 5/18  | 2 PM  | Finalize wrangling & begin analysis | Discuss/edit analysis and assign components to members   |\n",
    "| 5/24  | 1 PM  | Continue analysis & EDA | Plan to finish by the deadline and discuss the observations found |\n",
    "| 6/1  | 2 PM  | Further revision of the project | Check in with each other & extra discussion |\n",
    "| 6/5  | 1 PM  | Final revisions of the project | Work to record the final presentation |\n",
    "| 6/13  | Before Midnight  | Individual assignments | Turn in Final Project & Team Evaluation Surveys |"
   ]
  }
 ],
 "metadata": {
  "kernelspec": {
   "display_name": "Python 3",
   "language": "python",
   "name": "python3"
  },
  "language_info": {
   "codemirror_mode": {
    "name": "ipython",
    "version": 3
   },
   "file_extension": ".py",
   "mimetype": "text/x-python",
   "name": "python",
   "nbconvert_exporter": "python",
   "pygments_lexer": "ipython3",
   "version": "3.11.9"
  }
 },
 "nbformat": 4,
 "nbformat_minor": 2
}
